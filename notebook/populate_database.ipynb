{
 "cells": [
  {
   "cell_type": "markdown",
   "id": "4331c451",
   "metadata": {},
   "source": [
    "# Populate the database from given CSV file"
   ]
  },
  {
   "cell_type": "code",
   "execution_count": null,
   "id": "ecf0aff7",
   "metadata": {},
   "outputs": [],
   "source": [
    "import sys\n",
    "import os\n",
    "\n",
    "sys.path.append(os.path.abspath(\"..\"))"
   ]
  },
  {
   "cell_type": "code",
   "execution_count": null,
   "id": "0c9fb8ef",
   "metadata": {},
   "outputs": [
    {
     "name": "stderr",
     "output_type": "stream",
     "text": [
      "2025-06-23 13:45:51.901485: I external/local_xla/xla/tsl/cuda/cudart_stub.cc:32] Could not find cuda drivers on your machine, GPU will not be used.\n",
      "2025-06-23 13:45:51.904362: I external/local_xla/xla/tsl/cuda/cudart_stub.cc:32] Could not find cuda drivers on your machine, GPU will not be used.\n",
      "2025-06-23 13:45:51.911693: E external/local_xla/xla/stream_executor/cuda/cuda_fft.cc:467] Unable to register cuFFT factory: Attempting to register factory for plugin cuFFT when one has already been registered\n",
      "WARNING: All log messages before absl::InitializeLog() is called are written to STDERR\n",
      "E0000 00:00:1750679151.923754  313281 cuda_dnn.cc:8579] Unable to register cuDNN factory: Attempting to register factory for plugin cuDNN when one has already been registered\n",
      "E0000 00:00:1750679151.927187  313281 cuda_blas.cc:1407] Unable to register cuBLAS factory: Attempting to register factory for plugin cuBLAS when one has already been registered\n",
      "W0000 00:00:1750679151.937714  313281 computation_placer.cc:177] computation placer already registered. Please check linkage and avoid linking the same target more than once.\n",
      "W0000 00:00:1750679151.937735  313281 computation_placer.cc:177] computation placer already registered. Please check linkage and avoid linking the same target more than once.\n",
      "W0000 00:00:1750679151.937737  313281 computation_placer.cc:177] computation placer already registered. Please check linkage and avoid linking the same target more than once.\n",
      "W0000 00:00:1750679151.937738  313281 computation_placer.cc:177] computation placer already registered. Please check linkage and avoid linking the same target more than once.\n",
      "2025-06-23 13:45:51.941621: I tensorflow/core/platform/cpu_feature_guard.cc:210] This TensorFlow binary is optimized to use available CPU instructions in performance-critical operations.\n",
      "To enable the following instructions: AVX2 FMA, in other operations, rebuild TensorFlow with the appropriate compiler flags.\n"
     ]
    }
   ],
   "source": [
    "# Functions\n",
    "from sqlalchemy import func\n",
    "from utils import populate_from_csv, show_last_rows, create_tables, SessionLocal\n",
    "from models import ClientProfile"
   ]
  },
  {
   "cell_type": "code",
   "execution_count": null,
   "id": "a62dffd8",
   "metadata": {},
   "outputs": [
    {
     "name": "stdout",
     "output_type": "stream",
     "text": [
      "Current row in table : 10000\n"
     ]
    }
   ],
   "source": [
    "# Create tables if needed\n",
    "create_tables()\n",
    "\n",
    "# Populate database if needed\n",
    "count = SessionLocal().query(func.count(ClientProfile.id)).scalar()\n",
    "if count == 0:\n",
    "    populate_from_csv(SessionLocal(), \"clean-data.csv\")\n",
    "    show_last_rows(SessionLocal(), 10)\n",
    "    new_count = SessionLocal().query(func.count(ClientProfile.id)).scalar()\n",
    "    print(f\"Row in table : {new_count}\")\n",
    "else:\n",
    "    print(f\"Current row in table : {count}\")"
   ]
  }
 ],
 "metadata": {
  "kernelspec": {
   "display_name": ".venv",
   "language": "python",
   "name": "python3"
  },
  "language_info": {
   "codemirror_mode": {
    "name": "ipython",
    "version": 3
   },
   "file_extension": ".py",
   "mimetype": "text/x-python",
   "name": "python",
   "nbconvert_exporter": "python",
   "pygments_lexer": "ipython3",
   "version": "3.10.12"
  }
 },
 "nbformat": 4,
 "nbformat_minor": 5
}
