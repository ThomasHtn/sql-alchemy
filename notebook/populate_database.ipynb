{
 "cells": [
  {
   "cell_type": "markdown",
   "id": "4331c451",
   "metadata": {},
   "source": [
    "# Populate the database from given CSV file"
   ]
  },
  {
   "cell_type": "code",
   "execution_count": 1,
   "id": "ecf0aff7",
   "metadata": {},
   "outputs": [],
   "source": [
    "import sys\n",
    "import os\n",
    "\n",
    "sys.path.append(os.path.abspath(\"..\"))"
   ]
  },
  {
   "cell_type": "code",
   "execution_count": 2,
   "id": "0c9fb8ef",
   "metadata": {},
   "outputs": [
    {
     "name": "stderr",
     "output_type": "stream",
     "text": [
      "2025-06-23 16:48:51.897352: I external/local_xla/xla/tsl/cuda/cudart_stub.cc:32] Could not find cuda drivers on your machine, GPU will not be used.\n",
      "2025-06-23 16:48:51.900578: I external/local_xla/xla/tsl/cuda/cudart_stub.cc:32] Could not find cuda drivers on your machine, GPU will not be used.\n",
      "2025-06-23 16:48:51.907666: E external/local_xla/xla/stream_executor/cuda/cuda_fft.cc:467] Unable to register cuFFT factory: Attempting to register factory for plugin cuFFT when one has already been registered\n",
      "WARNING: All log messages before absl::InitializeLog() is called are written to STDERR\n",
      "E0000 00:00:1750690131.920627  198867 cuda_dnn.cc:8579] Unable to register cuDNN factory: Attempting to register factory for plugin cuDNN when one has already been registered\n",
      "E0000 00:00:1750690131.925246  198867 cuda_blas.cc:1407] Unable to register cuBLAS factory: Attempting to register factory for plugin cuBLAS when one has already been registered\n",
      "W0000 00:00:1750690131.935604  198867 computation_placer.cc:177] computation placer already registered. Please check linkage and avoid linking the same target more than once.\n",
      "W0000 00:00:1750690131.935621  198867 computation_placer.cc:177] computation placer already registered. Please check linkage and avoid linking the same target more than once.\n",
      "W0000 00:00:1750690131.935623  198867 computation_placer.cc:177] computation placer already registered. Please check linkage and avoid linking the same target more than once.\n",
      "W0000 00:00:1750690131.935624  198867 computation_placer.cc:177] computation placer already registered. Please check linkage and avoid linking the same target more than once.\n",
      "2025-06-23 16:48:51.938815: I tensorflow/core/platform/cpu_feature_guard.cc:210] This TensorFlow binary is optimized to use available CPU instructions in performance-critical operations.\n",
      "To enable the following instructions: AVX2 FMA, in other operations, rebuild TensorFlow with the appropriate compiler flags.\n"
     ]
    }
   ],
   "source": [
    "# Functions\n",
    "from sqlalchemy import func\n",
    "from utils.base import SessionLocal\n",
    "from utils.database_management import populate_from_csv, show_last_rows, create_tables\n",
    "from models import ClientProfile"
   ]
  },
  {
   "cell_type": "code",
   "execution_count": 3,
   "id": "a62dffd8",
   "metadata": {},
   "outputs": [
    {
     "name": "stdout",
     "output_type": "stream",
     "text": [
      "ID: 5292, Age: 43, Score: 574.7797217537943, Income: €2128.0, Children: 0,\n",
      "ID: 5291, Age: 36, Score: 574.7797217537943, Income: €2381.0, Children: 1,\n",
      "ID: 5290, Age: 72, Score: 590, Income: €4019.0, Children: 0,\n",
      "ID: 5289, Age: 49, Score: 574.7797217537943, Income: €1923.0, Children: 4,\n",
      "ID: 5288, Age: 19, Score: 461, Income: €1288.0, Children: 3,\n",
      "ID: 5287, Age: 47, Score: 577, Income: €4022.0, Children: 5,\n",
      "ID: 5286, Age: 27, Score: 574.7797217537943, Income: €2025.0, Children: 1,\n",
      "ID: 5285, Age: 58, Score: 367, Income: €938.0, Children: 2,\n",
      "ID: 5284, Age: 42, Score: 574.7797217537943, Income: €1031.0, Children: 3,\n",
      "ID: 5283, Age: 66, Score: 574.7797217537943, Income: €3534.0, Children: 0,\n",
      "Row in table : 5292\n"
     ]
    }
   ],
   "source": [
    "# Create tables if needed\n",
    "create_tables()\n",
    "\n",
    "# Populate database if needed\n",
    "count = SessionLocal().query(func.count(ClientProfile.id)).scalar()\n",
    "if count == 0:\n",
    "    populate_from_csv(SessionLocal(), \"clean-data.csv\")\n",
    "    show_last_rows(SessionLocal(), 10)\n",
    "    new_count = SessionLocal().query(func.count(ClientProfile.id)).scalar()\n",
    "    print(f\"Row in table : {new_count}\")\n",
    "else:\n",
    "    print(f\"Current row in table : {count}\")"
   ]
  }
 ],
 "metadata": {
  "kernelspec": {
   "display_name": ".venv",
   "language": "python",
   "name": "python3"
  },
  "language_info": {
   "codemirror_mode": {
    "name": "ipython",
    "version": 3
   },
   "file_extension": ".py",
   "mimetype": "text/x-python",
   "name": "python",
   "nbconvert_exporter": "python",
   "pygments_lexer": "ipython3",
   "version": "3.10.12"
  }
 },
 "nbformat": 4,
 "nbformat_minor": 5
}
